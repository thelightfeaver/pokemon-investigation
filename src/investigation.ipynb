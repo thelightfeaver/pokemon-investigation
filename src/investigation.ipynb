{
 "cells": [
  {
   "cell_type": "code",
   "execution_count": null,
   "metadata": {},
   "outputs": [],
   "source": [
    "# Install the required packages\n",
    "%pip install numpy\n",
    "%pip install pandas\n",
    "%pip install matplotlib"
   ]
  },
  {
   "cell_type": "code",
   "execution_count": null,
   "metadata": {},
   "outputs": [],
   "source": [
    "# Import the required packages\n",
    "import numpy as np\n",
    "import pandas as pd\n",
    "import matplotlib.pyplot as plt"
   ]
  },
  {
   "cell_type": "code",
   "execution_count": null,
   "metadata": {},
   "outputs": [],
   "source": [
    "# Load the data from the csv file.\n",
    "dt_frame = pd.read_csv('../data/pokemon.csv')\n",
    "dt_frame.keys()"
   ]
  },
  {
   "cell_type": "code",
   "execution_count": null,
   "metadata": {},
   "outputs": [],
   "source": [
    "stats_pokemon = dt_frame[['name', 'hp', 'attack', 'defense', 'sp_attack', 'sp_defense', 'speed', 'generation']]\n",
    "\n",
    "# Search for the pokemon with the best stats by generation.\n",
    "pokemons = stats_pokemon.groupby('generation').max()\n",
    "\n",
    "# Show data in a bar line chart and name the pokemon with the best stats by generation with pandas.\n",
    "pokemons.plot.bar(figsize=(20,10),\n",
    "            title='Pokemon with the best stats by generation',\n",
    "            fontsize=12,\n",
    "            rot=0,\n",
    "            grid=True,\n",
    "            color=['#00ff00', '#ff0000', '#ffff00', '#ff8000', '#00ffff', '#0000ff'],\n",
    "            xlabel='Generation',\n",
    "            ylabel='Stats')\n",
    "\n",
    "# TODO Add Name of pokemon in the bar line chart.\n",
    "\n",
    "\n",
    "plt.show()"
   ]
  }
 ],
 "metadata": {
  "kernelspec": {
   "display_name": "Python 3",
   "language": "python",
   "name": "python3"
  },
  "language_info": {
   "codemirror_mode": {
    "name": "ipython",
    "version": 3
   },
   "file_extension": ".py",
   "mimetype": "text/x-python",
   "name": "python",
   "nbconvert_exporter": "python",
   "pygments_lexer": "ipython3",
   "version": "3.10.2"
  },
  "orig_nbformat": 4
 },
 "nbformat": 4,
 "nbformat_minor": 2
}
