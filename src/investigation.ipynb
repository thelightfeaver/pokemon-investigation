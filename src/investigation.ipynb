{
 "cells": [
  {
   "cell_type": "markdown",
   "metadata": {},
   "source": [
    "#### 1 - Install and Import packages "
   ]
  },
  {
   "cell_type": "code",
   "execution_count": null,
   "metadata": {},
   "outputs": [],
   "source": [
    "# Install the required packages\n",
    "%pip install numpy\n",
    "%pip install pandas\n",
    "%pip install matplotlib"
   ]
  },
  {
   "cell_type": "code",
   "execution_count": null,
   "metadata": {},
   "outputs": [],
   "source": [
    "%pip install numpy\n",
    "%pip install pandas\n",
    "%pip install matplotlib"
   ]
  },
  {
   "cell_type": "code",
   "execution_count": null,
   "metadata": {},
   "outputs": [],
   "source": [
    "# Import the required packages\n",
    "import numpy as np\n",
    "import pandas as pd\n",
    "import matplotlib.pyplot as plt"
   ]
  },
  {
   "cell_type": "markdown",
   "metadata": {},
   "source": [
    "#### 2 - Load Data from file"
   ]
  },
  {
   "cell_type": "code",
   "execution_count": null,
   "metadata": {},
   "outputs": [],
   "source": [
    "# Load the data from the csv file.\n",
    "dt_frame = pd.read_csv('../data/pokemon.csv')\n",
    "dt_frame.head()"
   ]
  },
  {
   "cell_type": "markdown",
   "metadata": {},
   "source": [
    "#### 3 - Select columns and add new column"
   ]
  },
  {
   "cell_type": "code",
   "execution_count": null,
   "metadata": {},
   "outputs": [],
   "source": [
    "# Select the columns that we want to use.\n",
    "all_data = dt_frame[['name', 'hp', 'attack', 'defense', 'sp_attack', 'sp_defense', 'speed', 'generation', 'type1', 'type2']]\n",
    "all_data.head()\n",
    "\n",
    "def get_region(generation: int) -> str:\n",
    "    if generation == 1:\n",
    "        return 'Kanto'\n",
    "    elif generation == 2:\n",
    "        return 'Johto'\n",
    "    elif generation == 3:\n",
    "        return 'Hoenn'\n",
    "    elif generation == 4:\n",
    "        return 'Sinnoh'\n",
    "    elif generation == 5:\n",
    "        return 'Unova'\n",
    "    elif generation == 6:\n",
    "        return 'Kalos'\n",
    "    elif generation == 7:\n",
    "        return 'Alola'\n",
    "    elif generation == 8:\n",
    "        return 'Galar'\n",
    "    elif generation == 9:\n",
    "        return 'Hisui'\n",
    "    \n",
    "# Add a column thats contains the region according generation.\n",
    "all_data['region'] = all_data['generation'].apply(lambda x: get_region(x))   \n",
    "all_data.head()\n"
   ]
  },
  {
   "cell_type": "markdown",
   "metadata": {},
   "source": [
    "#### 4 - how many pokemon are for each region?"
   ]
  },
  {
   "cell_type": "code",
   "execution_count": null,
   "metadata": {},
   "outputs": [],
   "source": [
    "# Count the number of pokemons by region.\n",
    "count_by_region = all_data.groupby('region').count()\n",
    "count_by_region.head()\n",
    "\n",
    "\n",
    "# Plot the number of pokemons by region.\n",
    "plt.bar(count_by_region.index, count_by_region['name'])\n",
    "plt.show()\n",
    "\n"
   ]
  }
 ],
 "metadata": {
  "kernelspec": {
   "display_name": "Python 3",
   "language": "python",
   "name": "python3"
  },
  "language_info": {
   "codemirror_mode": {
    "name": "ipython",
    "version": 3
   },
   "file_extension": ".py",
   "mimetype": "text/x-python",
   "name": "python",
   "nbconvert_exporter": "python",
   "pygments_lexer": "ipython3",
   "version": "3.11.3"
  },
  "orig_nbformat": 4
 },
 "nbformat": 4,
 "nbformat_minor": 2
}
